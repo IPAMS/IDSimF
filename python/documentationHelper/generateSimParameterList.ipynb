{
 "cells": [
  {
   "cell_type": "code",
   "execution_count": 1,
   "metadata": {},
   "outputs": [],
   "source": [
    "import json"
   ]
  },
  {
   "cell_type": "code",
   "execution_count": 38,
   "metadata": {},
   "outputs": [
    {
     "name": "stdout",
     "output_type": "stream",
     "text": [
      "``sim_time_steps`` : \n",
      "\n",
      "``dt_s`` : \n",
      "\n",
      "``n_particles`` : \n",
      "\n",
      "``background_temperature_K`` : \n",
      "\n",
      "``reaction_configuration`` : \n",
      "\n",
      "``concentrations_write_interval`` : \n",
      "\n",
      "\n"
     ]
    }
   ],
   "source": [
    "def sim_parameter_list(in_filename):\n",
    "    with open(in_filename) as fh:\n",
    "        \n",
    "        data = json.load(fh)        \n",
    "        result = ''\n",
    "        \n",
    "        for key in data:\n",
    "            result += '  * - ``'+str(key)+\"``\\n    - \\n    - \\n\"\n",
    "        \n",
    "    return result\n",
    "\n",
    "def sim_parameter_def_list(in_filename):\n",
    "    with open(in_filename) as fh:\n",
    "        \n",
    "        data = json.load(fh)        \n",
    "        result = ''\n",
    "        \n",
    "        for key in data:\n",
    "            result += '``'+str(key)+\"`` : \\n\\n\"\n",
    "        \n",
    "    return result\n",
    "            \n",
    "            \n",
    "print(sim_parameter_def_list('../../build/applications/chemistry/RS-idealIsothermReactorSim/example/RS_waterCluster_benchmarkRun.json'))"
   ]
  },
  {
   "cell_type": "code",
   "execution_count": 4,
   "metadata": {},
   "outputs": [
    {
     "name": "stdout",
     "output_type": "stream",
     "text": [
      "{'sim_time_steps': 6000, 'trajectory_write_interval': 50, 'dt': 1e-08, 'ion_cloud_init_file': 'test_ion_cloud_01.csv', 'space_charge_factor': 1000.0}\n"
     ]
    }
   ],
   "source": []
  },
  {
   "cell_type": "code",
   "execution_count": null,
   "metadata": {},
   "outputs": [],
   "source": []
  }
 ],
 "metadata": {
  "kernelspec": {
   "display_name": "Python 3",
   "language": "python",
   "name": "python3"
  },
  "language_info": {
   "codemirror_mode": {
    "name": "ipython",
    "version": 3
   },
   "file_extension": ".py",
   "mimetype": "text/x-python",
   "name": "python",
   "nbconvert_exporter": "python",
   "pygments_lexer": "ipython3",
   "version": "3.8.5"
  }
 },
 "nbformat": 4,
 "nbformat_minor": 4
}
