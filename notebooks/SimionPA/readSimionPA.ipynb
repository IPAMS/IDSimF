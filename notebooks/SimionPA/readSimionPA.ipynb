{
 "cells": [
  {
   "cell_type": "code",
   "execution_count": 1,
   "metadata": {},
   "outputs": [],
   "source": [
    "import struct\n",
    "import re\n",
    "from math import *\n",
    "import numpy as np\n",
    "import matplotlib.pyplot as plt\n",
    "\n",
    "# Read nbytes length bytes from file.  Raises IOError on failure to read nbytes.\n",
    "def _read_bytes(file, nbytes):\n",
    "    s = file.read(nbytes)\n",
    "    if len(s) != nbytes: raise IOError(\"Bytes missing from file.\")\n",
    "    return s"
   ]
  },
  {
   "cell_type": "code",
   "execution_count": 3,
   "metadata": {},
   "outputs": [
    {
     "name": "stdout",
     "output_type": "stream",
     "text": [
      "-----------\n",
      "-2\n",
      "1\n",
      "100000.0\n",
      "80 50 1 1600\n",
      "0 0 0 electrostatic 100\n",
      "0.5 0.5 0.5\n",
      "[ 99.9594755   99.91895408  99.71634487 ... -46.55995831 -46.58871264\n",
      " -46.59779644]\n"
     ]
    },
    {
     "data": {
      "image/png": "[encoded data removed]",
      "text/plain": [
       "<Figure size 432x288 with 1 Axes>"
      ]
     },
     "metadata": {
      "needs_background": "light"
     },
     "output_type": "display_data"
    }
   ],
   "source": [
    "pathCylindrical = 'simion_test_cylindrical.pa'\n",
    "pathPlanar = 'simion_test_planar_mirrored.pa'\n",
    "pathPlanarScaled = 'simion_test_planar_2d_scaled.pa'\n",
    "\n",
    "def read_pa(path):\n",
    "    f = open(path, 'rb')\n",
    "    print(\"-----------\")\n",
    "    (mode,) = struct.unpack(\"i\", _read_bytes(f, 4))\n",
    "    print(mode)\n",
    "\n",
    "    (symmetry,) = struct.unpack(\"i\", _read_bytes(f, 4))\n",
    "    print(symmetry)\n",
    "    \n",
    "    (max_voltage,) = struct.unpack(\"d\", _read_bytes(f, 8))\n",
    "    print(max_voltage)\n",
    "    \n",
    "    (nx,ny,nz,raw_mirror) = struct.unpack(\"=iiii\", _read_bytes(f, 4*4))\n",
    "    print(nx, ny, nz, raw_mirror)\n",
    "    \n",
    "    mirror_x = raw_mirror & 1\n",
    "    mirror_y = (raw_mirror >> 1) & 1\n",
    "    mirror_z = (raw_mirror >> 2) & 1\n",
    "    field_type = ((raw_mirror >> 3) & 1) and \"magnetic\" or \"electrostatic\"\n",
    "    ng = (raw_mirror >> 4) & ((1 << 17)-1)\n",
    "    \n",
    "    if mode <= -2:\n",
    "        (dx_mm, dy_mm, dz_mm) = struct.unpack(\"ddd\", _read_bytes(f, 8*3))\n",
    "    else:\n",
    "        (dx_mm, dy_mm, dz_mm) = (1,1,1)\n",
    "        \n",
    "    print(mirror_x, mirror_y, mirror_z, field_type, ng)\n",
    "    print(dx_mm, dy_mm, dz_mm)\n",
    "    \n",
    "    fx = \"d\" * nx\n",
    "    num_points = nx * ny * nz\n",
    "    points = [0] * num_points # allocate\n",
    "    for n in range(0, num_points, nx):\n",
    "        buf = f.read(nx * 8)\n",
    "        points[n:n+nx] = list(struct.unpack(fx, buf))\n",
    "        \n",
    "        \n",
    "    pts = np.array(points)\n",
    "    \n",
    "    print(pts)\n",
    "    plt.plot(pts)\n",
    "    \n",
    "\n",
    "read_pa(pathPlanarScaled)\n",
    "#print_pa(pathPlanar)"
   ]
  },
  {
   "cell_type": "code",
   "execution_count": 29,
   "metadata": {},
   "outputs": [
    {
     "name": "stdout",
     "output_type": "stream",
     "text": [
      "mirror   1111\n",
      "mirror2  11001001111\n",
      "ng       1100100\n",
      "ng<<4    11001000000\n"
     ]
    }
   ],
   "source": [
    "ng = 100\n",
    "mx = 1\n",
    "my = 2 \n",
    "mz = 4\n",
    "magnetic= 8\n",
    "mirror = (mx | my | mz | magnetic) \n",
    "print('mirror  ', format(mirror,'b'))\n",
    "mirror2 = (mx | my | mz |magnetic) + (ng<<4)\n",
    "print('mirror2 ', format(mirror2,'b'))\n",
    "\n",
    "\n",
    "print('ng      ', format(ng,'b'))\n",
    "print('ng<<4   ', format(ng << 4,'b'))\n",
    "\n"
   ]
  },
  {
   "cell_type": "code",
   "execution_count": 4,
   "metadata": {},
   "outputs": [
    {
     "name": "stdout",
     "output_type": "stream",
     "text": [
      "{'a': 10, 'b': 20}\n"
     ]
    }
   ],
   "source": [
    "a = {'a':10, 'b':20}\n",
    "print(a)"
   ]
  },
  {
   "cell_type": "code",
   "execution_count": null,
   "metadata": {},
   "outputs": [],
   "source": []
  }
 ],
 "metadata": {
  "kernelspec": {
   "display_name": "Python 3",
   "language": "python",
   "name": "python3"
  },
  "language_info": {
   "codemirror_mode": {
    "name": "ipython",
    "version": 3
   },
   "file_extension": ".py",
   "mimetype": "text/x-python",
   "name": "python",
   "nbconvert_exporter": "python",
   "pygments_lexer": "ipython3",
   "version": "3.8.3"
  }
 },
 "nbformat": 4,
 "nbformat_minor": 4
}
